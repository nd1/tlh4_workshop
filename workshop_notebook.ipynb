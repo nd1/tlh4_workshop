{
 "cells": [
  {
   "cell_type": "markdown",
   "metadata": {},
   "source": [
    "to do:\n",
    "fill in notebook with items\n",
    "test in windows"
   ]
  },
  {
   "cell_type": "markdown",
   "metadata": {},
   "source": [
    "<img src=\"./img/tlh4.jpg\" alt=\"Drawing\" style=\"width: 500px;\" align=\"center\"/>\n",
    "TechLady Hackathon 4 logo created by [@MarieCWhittaker](https://twitter.com/MarieCWhittaker)"
   ]
  },
  {
   "cell_type": "markdown",
   "metadata": {},
   "source": [
    "# Data Collection: APIs and Web Scraping in Python "
   ]
  },
  {
   "cell_type": "markdown",
   "metadata": {},
   "source": [
    "**This notebook will walk through API usage and web scraping. It assumes you have done some Python programming and are new to APIs and Web Scraping. **\n",
    "\n",
    "**I have included a list of resources in the slides that includes information for beginners. **\n",
    "\n",
    "This notebook has been written for Python 3.5."
   ]
  },
  {
   "cell_type": "code",
   "execution_count": null,
   "metadata": {
    "collapsed": true
   },
   "outputs": [],
   "source": [
    "#imports - urllib.request urllib.parse urllib.error, json"
   ]
  },
  {
   "cell_type": "code",
   "execution_count": null,
   "metadata": {
    "collapsed": true
   },
   "outputs": [],
   "source": [
    "#omdb api (no keys)"
   ]
  },
  {
   "cell_type": "code",
   "execution_count": null,
   "metadata": {
    "collapsed": true
   },
   "outputs": [],
   "source": [
    "#DPLA api -- request key with curl"
   ]
  },
  {
   "cell_type": "markdown",
   "metadata": {},
   "source": [
    "Let's try an API that requires an API key!\n",
    "\n",
    "\n",
    "    shell-init: error retrieving current directory: getcwd: cannot access parent directories: No such file or directory\n",
    "    *   Trying 52.2.169.251...\n",
    "    * Connected to api.dp.la (52.2.169.251) port 80 (#0)\n",
    "    > POST /v2/api_key/YOUR_EMAIL@example.com HTTP/1.1\n",
    "    > Host: api.dp.la\n",
    "    > User-Agent: curl/7.43.0\n",
    "    > Accept: */*\n",
    "    > \n",
    "    < HTTP/1.1 201 Created\n",
    "    < Access-Control-Allow-Origin: *\n",
    "    < Cache-Control: max-age=0, private, must-revalidate\n",
    "    < Content-Type: application/json; charset=utf-8\n",
    "    < Date: Thu, 20 Oct 2016 20:53:24 GMT\n",
    "    < ETag: \"8b66d9fe7ded79e3151d5a22f0580d99\"\n",
    "    < Server: nginx/1.1.19\n",
    "    < Status: 201 Created\n",
    "    < X-Request-Id: d61618751a376452ac3540b3157dcf48\n",
    "    < X-Runtime: 0.179920\n",
    "    < X-UA-Compatible: IE=Edge,chrome=1\n",
    "    < Content-Length: 89\n",
    "    < Connection: keep-alive\n",
    "    < \n",
    "    * Connection #0 to host api.dp.la left intact\n",
    "    {\"message\":\"API key created and sent via email. Be sure to check your Spam folder, too.\"}"
   ]
  },
  {
   "cell_type": "code",
   "execution_count": null,
   "metadata": {
    "collapsed": true
   },
   "outputs": [],
   "source": [
    "#! curl -v -XPOST http://api.dp.la/v2/api_key/YOUR_EMAIL@example.com"
   ]
  },
  {
   "cell_type": "code",
   "execution_count": null,
   "metadata": {
    "collapsed": true
   },
   "outputs": [],
   "source": [
    "#DPLA store keys, make queries"
   ]
  },
  {
   "cell_type": "code",
   "execution_count": null,
   "metadata": {
    "collapsed": true
   },
   "outputs": [],
   "source": [
    "#api- yelp script"
   ]
  },
  {
   "cell_type": "code",
   "execution_count": null,
   "metadata": {
    "collapsed": true
   },
   "outputs": [],
   "source": [
    "#scraping - famous quotes"
   ]
  },
  {
   "cell_type": "code",
   "execution_count": null,
   "metadata": {
    "collapsed": true
   },
   "outputs": [],
   "source": [
    "#scraping - selenium, local parsing, nasty html"
   ]
  },
  {
   "cell_type": "code",
   "execution_count": null,
   "metadata": {
    "collapsed": true
   },
   "outputs": [],
   "source": [
    "#scraping - additional resources"
   ]
  }
 ],
 "metadata": {
  "kernelspec": {
   "display_name": "Python 3",
   "language": "python",
   "name": "python3"
  },
  "language_info": {
   "codemirror_mode": {
    "name": "ipython",
    "version": 3
   },
   "file_extension": ".py",
   "mimetype": "text/x-python",
   "name": "python",
   "nbconvert_exporter": "python",
   "pygments_lexer": "ipython3",
   "version": "3.5.2"
  }
 },
 "nbformat": 4,
 "nbformat_minor": 1
}
