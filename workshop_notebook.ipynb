{
 "cells": [
  {
   "cell_type": "markdown",
   "metadata": {},
   "source": [
    "# Data Collection: APIs and Web Scraping in Python "
   ]
  },
  {
   "cell_type": "markdown",
   "metadata": {},
   "source": [
    "**This notebook will walk through API usage and web scraping. It assumes you have done some Python programming and are new to APIs and Web Scraping. **\n",
    "\n",
    "**I have included a list of resources in the slides that includes information for beginners. **\n",
    "\n",
    "Here are some references if you would like further information on working from the command line:\n",
    "\n",
    "* [Command Line Crash Course](https://learnpythonthehardway.org/book/appendixa.html) - *nix based users (Linux/ OS X)\n",
    "* [Effective Windows PowerShell](https://onedrive.live.com/view.aspx?resid=5A8D2641E0963A97!6929&ithint=file%2cpdf&app=WordPdf&authkey=!AJdUaNzW7L9yC18) - Windows users\n",
    "\n",
    "There are a lot of Python references available. I used [Learn Python the Hard Way](https://learnpythonthehardway.org/book/) and [Automate the Boring Stuff with Python](https://automatetheboringstuff.com/) when I was first learning. I like the challenges on [HackerRank](https://www.hackerrank.com/domains/python/py-introduction) to practice. The discussion on each challenge is great for seeing how other people approach the problem and to ask questions. The free beginner lesson on [DataQuest](https://www.dataquest.io/path/data-scientist) are also great if you are just starting out or want more practice."
   ]
  },
  {
   "cell_type": "code",
   "execution_count": null,
   "metadata": {
    "collapsed": true
   },
   "outputs": [],
   "source": []
  }
 ],
 "metadata": {
  "kernelspec": {
   "display_name": "Python 3",
   "language": "python",
   "name": "python3"
  },
  "language_info": {
   "codemirror_mode": {
    "name": "ipython",
    "version": 3
   },
   "file_extension": ".py",
   "mimetype": "text/x-python",
   "name": "python",
   "nbconvert_exporter": "python",
   "pygments_lexer": "ipython3",
   "version": "3.5.2"
  }
 },
 "nbformat": 4,
 "nbformat_minor": 1
}
