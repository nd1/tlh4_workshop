{
 "cells": [
  {
   "cell_type": "raw",
   "metadata": {
    "slideshow": {
     "slide_type": "skip"
    }
   },
   "source": [
    "<script type=\"text/javascript\">\n",
    "\n",
    "$(document).ready(function(){\n",
    "\n",
    "    Reveal.configure({\n",
    "        transition: 'convex' // none/fade/slide/convex/concave/zoom\n",
    "    })\n",
    "});    \n",
    "</script>"
   ]
  },
  {
   "cell_type": "markdown",
   "metadata": {
    "slideshow": {
     "slide_type": "slide"
    }
   },
   "source": [
    " \n",
    "<img src=\"./img/tlh4.jpg\" alt=\"Drawing\" style=\"width: 700px;\" align=\"center\"/>\n",
    "\n",
    "# <center>Data Collection: APIs and Web Scraping in Python </center>\n",
    "\n",
    "\n",
    "<br/>\n",
    "<p> <b>Nicole Donnelly</b>\n",
    "\n",
    "\n",
    "TechLady Hackathon 4 logo created by [@MarieCWhittaker](https://twitter.com/MarieCWhittaker)"
   ]
  },
  {
   "cell_type": "markdown",
   "metadata": {
    "slideshow": {
     "slide_type": "slide"
    }
   },
   "source": [
    "# <center>Hi.</center>\n",
    "\n",
    "\n",
    "\n",
    "\n",
    "\n",
    "\n",
    "\n",
    "<center>\n",
    "<p>Everything for this workshop is available online here https://github.com/nd1/tlh4_workshop\n",
    "</center>"
   ]
  },
  {
   "cell_type": "markdown",
   "metadata": {
    "slideshow": {
     "slide_type": "notes"
    }
   },
   "source": [
    "Hello! My name is Nicole Donnelly.\n",
    "\n",
    "I am going to present a workshop of data collection, specifically using python to collect data from APIs and to build a basic web scraper.\n",
    "\n",
    "To that end..."
   ]
  },
  {
   "cell_type": "markdown",
   "metadata": {
    "slideshow": {
     "slide_type": "subslide"
    }
   },
   "source": [
    "# <center> Who Are You?  </center>"
   ]
  },
  {
   "cell_type": "markdown",
   "metadata": {
    "slideshow": {
     "slide_type": "fragment"
    }
   },
   "source": [
    "<center> How many people know python?  </center>\n",
    "<center> How many people have used APIs? </center>\n",
    "<center> Anybody ever try web scraping?  </center>"
   ]
  },
  {
   "cell_type": "markdown",
   "metadata": {
    "slideshow": {
     "slide_type": "subslide"
    }
   },
   "source": [
    "# <center> Who Am I? </center>"
   ]
  },
  {
   "cell_type": "markdown",
   "metadata": {
    "slideshow": {
     "slide_type": "fragment"
    }
   },
   "source": [
    "<center> I have been using Python for a little over a year.  </center>\n",
    "<center> I am a recovering consultant.  </center>\n",
    "<center> I am learning to be a data scientist.  </center>\n",
    "<center> I really love data.  </center>"
   ]
  },
  {
   "cell_type": "markdown",
   "metadata": {
    "slideshow": {
     "slide_type": "notes"
    }
   },
   "source": [
    "I know a lot of people, especially here, probably love data. But I really love data. \n",
    "\n",
    "Data is my happy place.\n",
    "\n",
    "Some people nurture plants, or animals, or children.\n",
    "\n",
    "I want to nurture data.\n",
    "\n",
    "I want it to become the best data it can be. I want it to help people. I want it to be happy.\n",
    "\n",
    "In my past life as a consultant, I spent a lot of time with data too. I worked in computer forensics and electronic discovery. I collected data, inventoried it, organized it, gave it context, analyzed it, reconstructed it, reported on it, and put it in useful formats for people to review and use. I was frequently asked to help inventory and organize data for other projects because I am good at it and I enjoy it.\n",
    "\n",
    "I decided to make a career change to data science. I completed the professional certificate in data science at Georgetown and I am currently the TA. I also completed the Data Science Immersive at Genral Assembly.\n",
    "\n",
    "Currently seeking full time employment!\n"
   ]
  },
  {
   "cell_type": "markdown",
   "metadata": {
    "slideshow": {
     "slide_type": "slide"
    }
   },
   "source": [
    "# <center>Agenda</center>\n",
    "\n",
    "<p>\n",
    "### An Overview\n",
    "* What are APIs?\n",
    "* Where are APIs?\n",
    "* How do I access APIs?\n",
    "* What is the API giving me?\n",
    "* What is web scraping?\n",
    "* When should I web scrape?\n",
    "* How do I web scrape?\n",
    "\n",
    "### Some Hands-on\n",
    "* Workshop Notebook\n",
    "* Python Scripts"
   ]
  },
  {
   "cell_type": "markdown",
   "metadata": {
    "slideshow": {
     "slide_type": "notes"
    }
   },
   "source": [
    "I am going to assume people can navigate from the command line, have python installed, and have some experience with python.\n",
    "\n",
    "I am also going to assume people have not tried APIs or web scraping before.\n",
    "\n",
    "I created a notebook so we can go through some of the python and you can see what it is doing.\n",
    "\n",
    "I have also created some scripts you can run when you are ready. Feel free to modify them to suit your needs. Or, if you have some experience with all of this, feel free to play around with those instead of the notebook.\n",
    "\n",
    "If you are new to all of this, including python, I have included some resources at the end of the slides."
   ]
  },
  {
   "cell_type": "markdown",
   "metadata": {
    "slideshow": {
     "slide_type": "slide"
    }
   },
   "source": [
    "# <center>What are APIs?</center>"
   ]
  },
  {
   "cell_type": "markdown",
   "metadata": {
    "slideshow": {
     "slide_type": "subslide"
    }
   },
   "source": [
    "## <center>Application Programming Interface</center>\n",
    "\n",
    "\n",
    "“In the simplest terms, APIs are sets of requirements that govern how one application can talk to another.”\n",
    "\n",
    "\n",
    "\n",
    "“APIs are what make it possible to move information between programs....”\n",
    "\n",
    "\n",
    "\n",
    "*Source: http://readwrite.com/2013/09/19/api-defined*"
   ]
  },
  {
   "cell_type": "markdown",
   "metadata": {
    "slideshow": {
     "slide_type": "slide"
    }
   },
   "source": [
    "# <center>Where are APIs?</center>"
   ]
  },
  {
   "cell_type": "markdown",
   "metadata": {
    "slideshow": {
     "slide_type": "subslide"
    }
   },
   "source": [
    "![apis](./img/APIs.png)"
   ]
  },
  {
   "cell_type": "markdown",
   "metadata": {
    "slideshow": {
     "slide_type": "notes"
    }
   },
   "source": [
    "Everywhere.\n",
    "\n",
    "Copy/ paste is possible because of APIs.\n",
    "\n",
    "Common API examples:\n",
    "\n",
    "* Icons to share an article from a website\n",
    "* Disqus comment system\n",
    "* RSS readers (rss is an api)(Really Simple Syndication)"
   ]
  },
  {
   "cell_type": "markdown",
   "metadata": {
    "slideshow": {
     "slide_type": "slide"
    }
   },
   "source": [
    "# <center>How do I access APIs?</center>"
   ]
  },
  {
   "cell_type": "markdown",
   "metadata": {
    "slideshow": {
     "slide_type": "subslide"
    }
   },
   "source": [
    "Context: I will focus on REST APIs with JSON. \n",
    "\n",
    "Read more about API types [here](https://ffeathers.wordpress.com/2014/02/16/api-types/)\n",
    "    \n"
   ]
  },
  {
   "cell_type": "markdown",
   "metadata": {
    "slideshow": {
     "slide_type": "fragment"
    }
   },
   "source": [
    "[http://dev.markitondemand.com/Api/Quote/json?symbol=AAPL](http://dev.markitondemand.com/Api/Quote/json?symbol=AAPL)\n",
    "\n",
    "    {\"Data\":{\"Status\":\"SUCCESS\",\"Name\":\"Apple Inc\",\"Symbol\":\"AAPL\",\"LastPrice\":117.12,\"Change\":-0.349999999999994,\"ChangePercent\":-0.297948412360598,\"Timestamp\":\"Wed Oct 19 00:00:00 UTC-04:00 2016\",\"MarketCap\":631094444160,\"Volume\":20034594,\"ChangeYTD\":105.26,\"ChangePercentYTD\":11.2673380201406,\"High\":117.76,\"Low\":113.8,\"Open\":117.25}}"
   ]
  },
  {
   "cell_type": "markdown",
   "metadata": {
    "slideshow": {
     "slide_type": "notes"
    }
   },
   "source": [
    "It is as easy as constructing the correct url!\n",
    "\n",
    "REST was influenced by HTTP so is almost always implemented that way."
   ]
  },
  {
   "cell_type": "markdown",
   "metadata": {
    "slideshow": {
     "slide_type": "subslide"
    }
   },
   "source": [
    "http://api.dp.la/v2/items?api_key=<font color=\"red\">0123456789</font>&q=goats+AND+cats\n",
    "\n",
    "    {\"count\":29,\n",
    "    \"start\":0,\n",
    "    \"limit\":10,\n",
    "    \"docs\":[{\"@context\":\"http://dp.la/api/items/context\",\"isShownAt\":\"http://cdm16795.contentdm.oclc.org/cdm/ref/collection/divtour/id/88\",\"dataProvider\":\"Missouri State Archives through Missouri Digital Heritage\",\"@type\":\"ore:Aggregation\",\"provider\":{\"@id\":\"http://dp.la/api/contributor/missouri-hub\",\"name\":\"Missouri Hub\"},\"hasView\":{\"@id\":\"http://cdm16795.contentdm.oclc.org/cdm/ref/collection/divtour/id/88\"},\"object\":\"http://data.mohistory.org/files/thumbnails/cdm16795_contentdm_oclc_org568ad334407e0.jpg\",\"ingestionSequence\":12,\"id\":\"9e05f398ca95f9bbfd733e6d3493fd74\",\"ingestDate\":\"2016-10-11T13:21:48.399681Z\",\"_rev\":\"7-6bee4d18708d1d16efceeea1e061b316\",\"aggregatedCHO\":\"#sourceResource\",\"_id\":\"missouri--urn:data.mohistory.org:mdh_all:oai:cdm16795.contentdm.oclc.org:divtour/88\",\"sourceResource\":{\"title\":[\"Alabama Big Cats Safari Adventure\"],\"description\":[\"Children bottle feeding goats\"],\"subject\":[{\"name\":\"Transparencies, Slides\"},{\"name\":\"Tourist Destination\"}],\"rights\":[\"Copyright is in the public domain. Items reproduced for publication should carry the credit line: Courtesy of the Missouri State Archives.\"],\"relation\":[\"Division of Tourism Photograph Collection\"],\"language\":[{\"iso639_3\":\"eng\",\"name\":\"English\"}],\"format\":\"Image\",\"collection\":{\"id\":\"594a2b3666ab0c55245f6640555554cd\",\"description\":\"\",\"title\":\"Mdh_divtour\",\"@id\":\"http://dp.la/api/collections/594a2b3666ab0c55245f6640555554cd\"},\"stateLocatedIn\":[{\"name\":\"Missouri\"}],\"@id\":\"http://dp.la/api/items/9e05f398ca95f9bbfd733e6d3493fd74#sourceResource\",\"identifier\":[\"001_070\",\"http://cdm16795.contentdm.oclc.org/cdm/ref/collection/divtour/id/88\"],\"creator\":[\"GD\"]},\"admin\":{\"validation_message\":null,\"sourceResource\":{\"title\":\"Alabama Big Cats Safari Adventure\"},\"valid_after_enrich\":true},\"ingestType\":\"item\",\"@id\":\"http://dp.la/api/items/9e05f398ca95f9bbfd733e6d3493fd74\",\"originalRecord\":{\"id\":\"urn:data.mohistory.org:mdh_all:oai:cdm16795.contentdm.oclc.org:divtour/88\",\"provider\":{\"@id\":\"http://dp.la/api/contributor/missouri-hub\",\"name\":\"Missouri Hub\"},\"collection\":{\"id\":\"594a2b3666ab0c55245f6640555554cd\",\"description\":\"\",\"title\":\"mdh_divtour\",\"@id\":\"http://dp.la/api/collections/594a2b3666ab0c55245f6640555554cd\"},\"header\":{\"expirationdatetime\":\"2016-10-08T17:04:17Z\",\"datestamp\":\"2016-10-04T13:19:05Z\",\"identifier\":\"urn:data.mohistory.org:mdh_all:oai:cdm16795.contentdm.oclc.org:divtour/88\",\"setSpec\":\"mdh_divtour\"},\"metadata\":{\"mods\":{\"accessCondition\":\"Copyright is in the public domain. Items reproduced for publication should carry the credit line: Courtesy of the Missouri State Archives.\",\"location\":{\"url\":[{\"#text\":\"http://cdm16795.contentdm.oclc.org/cdm/ref/collection/divtour/id/88\",\"access\":\"object in context\"},{\"#text\":\"http://data.mohistory.org/files/thumbnails/cdm16795_contentdm_oclc_org568ad334407e0.jpg\",\"access\":\"preview\"}]},\"subject\":[{\"topic\":\"Transparencies, Slides\"},{\"topic\":\"Tourist Destination\"}],\"name\":{\"namePart\":\"GD\",\"role\":{\"roleTerm\":\"creator\"}},\"relatedItem\":{\"titleInfo\":{\"title\":\"Division of Tourism Photograph Collection\"}},\"physicalDescription\":{\"note\":\"Image\"},\"xmlns\":\"http://www.loc.gov/mods/v3\",\"language\":{\"languageTerm\":\"eng\"},\"titleInfo\":{\"title\":\"Alabama Big Cats Safari Adventure\"},\"identifier\":[\"001_070\",\"http://cdm16795.contentdm.oclc.org/cdm/ref/collection/divtour/id/88\"],\"note\":[\"Children bottle feeding goats\",{\"#text\":\"Missouri State Archives through Missouri Digital Heritage\",\"type\":\"ownership\"}]}}},\"score\":4.534843}, ... \n",
    "    \"facets\":[]}"
   ]
  },
  {
   "cell_type": "markdown",
   "metadata": {
    "slideshow": {
     "slide_type": "notes"
    }
   },
   "source": [
    "Sometimes you will need an API key."
   ]
  },
  {
   "cell_type": "markdown",
   "metadata": {
    "slideshow": {
     "slide_type": "subslide"
    }
   },
   "source": [
    "# <center>What is the API giving me?</center>"
   ]
  },
  {
   "cell_type": "markdown",
   "metadata": {
    "slideshow": {
     "slide_type": "subslide"
    }
   },
   "source": [
    "[http://dev.markitondemand.com/Api/Quote/json?symbol=AAPL](http://dev.markitondemand.com/Api/Quote/json?symbol=AAPL)\n",
    "\n",
    "    {\"Data\":{\"Status\":\"SUCCESS\",\"Name\":\"Apple Inc\",\"Symbol\":\"AAPL\",\"LastPrice\":117.06,\"Change\":-0.0600000000000023,\"ChangePercent\":-0.0512295081967233,\"Timestamp\":\"Thu Oct 20 00:00:00 UTC-04:00 2016\",\"MarketCap\":630771137580,\"Volume\":24059570,\"ChangeYTD\":105.26,\"ChangePercentYTD\":11.2103363100893,\"High\":117.38,\"Low\":116.33,\"Open\":116.86}}\n",
    "\n",
    "\n",
    "[http://dev.markitondemand.com/Api/Quote/xml?symbol=AAPL](http://dev.markitondemand.com/Api/Quote/xml?symbol=AAPL)\n",
    "```\n",
    "<QuoteApiModel>\n",
    "<Data>\n",
    "<Status>SUCCESS</Status>\n",
    "<Name>Apple Inc</Name>\n",
    "<Symbol>AAPL</Symbol>\n",
    "<LastPrice>117.06</LastPrice>\n",
    "<Change>-0.06</Change>\n",
    "<ChangePercent>-0.0512295082</ChangePercent>\n",
    "<Timestamp>Thu Oct 20 00:00:00 UTC-04:00 2016</Timestamp>\n",
    "<MarketCap>630771137580</MarketCap>\n",
    "<Volume>24059570</Volume>\n",
    "<ChangeYTD>105.26</ChangeYTD>\n",
    "<ChangePercentYTD>11.2103363101</ChangePercentYTD>\n",
    "<High>117.38</High>\n",
    "<Low>116.33</Low>\n",
    "<Open>116.86</Open>\n",
    "</Data>\n",
    "</QuoteApiModel>```"
   ]
  },
  {
   "cell_type": "markdown",
   "metadata": {
    "slideshow": {
     "slide_type": "notes"
    }
   },
   "source": [
    "APIs return serialized data.\n",
    "\n",
    "JSON stands for \"JavaScript Object Notation\", and has become a universal standard for serializing native data structures for transmission. It is light-weight, easy to read, and quick to parse. It is easy to use in python with the json library.\n",
    "\n",
    "XML stands for \"eXtensible Markup Language\", and is the granddaddy of serialized data formats (itself based on HTML). XML is fat, ugly, and cumbersome to parse. However, it remains a major format due to its legacy usage across the web. Most people favor using a JSON API, if available. There are xml libraries for python as well: lxml, etree, sax, minidom"
   ]
  },
  {
   "cell_type": "markdown",
   "metadata": {
    "slideshow": {
     "slide_type": "slide"
    }
   },
   "source": [
    "# <center>What is web scraping?</center>"
   ]
  },
  {
   "cell_type": "markdown",
   "metadata": {
    "slideshow": {
     "slide_type": "subslide"
    }
   },
   "source": [
    "* Web Scraping goes by many names - Screen Scraping, Web Data Extraction, Web Harvesting\n",
    "* It is the process of directly accessing webpages to copy data when APIs are not provided\n",
    "* It automates the process of copying the data and saving it locally"
   ]
  },
  {
   "cell_type": "markdown",
   "metadata": {
    "slideshow": {
     "slide_type": "fragment"
    }
   },
   "source": [
    "* It can be a vioation of terms of service\n",
    "* It can have legal repercussions\n",
    "* Even when it isn't a violation/ illegal, it is ethically ambiguous\n",
    "* It can look like a DOS and can overwhelm resources making them unavailable to others"
   ]
  },
  {
   "cell_type": "markdown",
   "metadata": {
    "slideshow": {
     "slide_type": "slide"
    }
   },
   "source": [
    "# <center>When should I web scrape?</center>"
   ]
  },
  {
   "cell_type": "markdown",
   "metadata": {
    "slideshow": {
     "slide_type": "subslide"
    }
   },
   "source": [
    "## \"IF YOU NEED A SCRAPER, YOU HAVE A DATA PROBLEM.\" \n",
    "\n",
    "### [David Eads](https://twitter.com/eads), [PyData DC, 10/9/16](https://docs.google.com/presentation/d/1jCFVPffHs8bVynMPctd0PmtbJAdFhHvpcC3w2ypQjpA/edit#slide=id.g1370fd37f3_0_75)"
   ]
  },
  {
   "cell_type": "markdown",
   "metadata": {
    "slideshow": {
     "slide_type": "notes"
    }
   },
   "source": [
    "I saw a really good talk on web scraping a few weeks ago at PyData DC.\n",
    "\n",
    "Did anyone go?\n",
    "\n",
    "I am borrowing, with permission, a couple of slides from the presenter.\n",
    "\n",
    "\"Fundamentally, a scraper means something isn’t right in the world. There’s a database out there, somewhere, powering a website, but you only have access to the website. \n",
    "\n",
    "But the good data… well, if it was easy to get, it probably wouldn’t be the good shit.\"\n"
   ]
  },
  {
   "cell_type": "markdown",
   "metadata": {
    "slideshow": {
     "slide_type": "subslide"
    }
   },
   "source": [
    "# NEVERSCRAPE UNLESS YOU...\n",
    "\n",
    "* **have no other way of liberating the data**\n",
    "* **budget appropriately**\n",
    "* **consider the ethical ramifications** (do some googling and read about the ethics)\n",
    "* **read terms of service and do your legal research**\n",
    "* **talk to a lawyer (if you possibly can)**\n"
   ]
  },
  {
   "cell_type": "markdown",
   "metadata": {
    "slideshow": {
     "slide_type": "notes"
    }
   },
   "source": [
    "I am not a lawyer, and I don't play one on tv.\n",
    "\n",
    "If time allows, try FOIA. Talk to Kate Rabinowitz about how.\n",
    "\n",
    "Scraping can turn into a denial of service attack. "
   ]
  },
  {
   "cell_type": "markdown",
   "metadata": {
    "slideshow": {
     "slide_type": "subslide"
    }
   },
   "source": [
    "![meme](./img/mimitw.jpg)"
   ]
  },
  {
   "cell_type": "markdown",
   "metadata": {
    "slideshow": {
     "slide_type": "notes"
    }
   },
   "source": [
    "My current nemesis is the DOH web site.\n",
    "\n",
    "DC makes DOH inspection reports, but the data is hosted by a 3rd party. It is not \"open\" and there is no public facing API.\n",
    "\n",
    "I was blocked and had to work around it. (selenium to download pages, long delays)"
   ]
  },
  {
   "cell_type": "markdown",
   "metadata": {
    "slideshow": {
     "slide_type": "slide"
    }
   },
   "source": [
    "# <center>How do I web scrape?</center>"
   ]
  },
  {
   "cell_type": "markdown",
   "metadata": {
    "slideshow": {
     "slide_type": "subslide"
    }
   },
   "source": [
    "There are a lot of libraries availble in Python to help with this task:\n",
    "\n",
    "* urllib2 - module for processing urls, expanded in [Python 3](https://docs.python.org/3/howto/urllib2.html)\n",
    "* [requests](http://docs.python-requests.org/en/latest/index.html) - improved upon urllib/ urllib2 \n",
    "* [lxml](http://lxml.de/) - extensive library for parsing XML and HTML, some people find it a little more difficult to use initially\n",
    "* [beautifulsoup4](https://www.crummy.com/software/BeautifulSoup/bs4/doc/) - library for pulling data out of HTML and XML files\n",
    "\n",
    "There is usually more than one way to do things in Python. What you end up with tends to be what you learn first and/ or what you are most comfortable with.\n"
   ]
  },
  {
   "cell_type": "markdown",
   "metadata": {
    "slideshow": {
     "slide_type": "subslide"
    }
   },
   "source": [
    "Expect a fair bit of trial and error. Web scraping is not straightforward and not for the faint of heart. It is a last resort."
   ]
  },
  {
   "cell_type": "markdown",
   "metadata": {
    "slideshow": {
     "slide_type": "slide"
    }
   },
   "source": [
    "# <center>Resources</center>"
   ]
  },
  {
   "cell_type": "markdown",
   "metadata": {
    "slideshow": {
     "slide_type": "subslide"
    }
   },
   "source": [
    "# <center>Command Line</center>\n",
    "\n",
    "* [Command Line Crash Course](https://learnpythonthehardway.org/book/appendixa.html) - \\*nix based users (Linux/ OS X)\n",
    "* [Effective Windows PowerShell](https://onedrive.live.com/view.aspx?resid=5A8D2641E0963A97!6929&ithint=file%2cpdf&app=WordPdf&authkey=!AJdUaNzW7L9yC18) - Windows users\n"
   ]
  },
  {
   "cell_type": "markdown",
   "metadata": {
    "slideshow": {
     "slide_type": "subslide"
    }
   },
   "source": [
    "# <center>Git and GitHub</center>\n",
    "\n",
    "There are a lot of online resources for using [Git](https://git-scm.com/) and [GitHub](https://github.com/). Here is a good one to start with [An Intro to Git and GitHub for Beginners (Tutorial)](http://product.hubspot.com/blog/git-and-github-tutorial-for-beginners)."
   ]
  },
  {
   "cell_type": "markdown",
   "metadata": {
    "slideshow": {
     "slide_type": "subslide"
    }
   },
   "source": [
    "# <center>Python </center>\n",
    "\n",
    "\n",
    "There are a lot of Python references available. I used [Learn Python the Hard Way](https://learnpythonthehardway.org/book/) and [Automate the Boring Stuff with Python](https://automatetheboringstuff.com/) when I was first learning. I like the challenges on [HackerRank](https://www.hackerrank.com/domains/python/py-introduction) to practice. The discussion on each challenge is great for seeing how other people approach the problem and to ask questions. The free beginner lesson on [DataQuest](https://www.dataquest.io/path/data-scientist) are also great if you are just starting out or want more practice."
   ]
  },
  {
   "cell_type": "markdown",
   "metadata": {
    "slideshow": {
     "slide_type": "subslide"
    }
   },
   "source": [
    "# <center>More Web Scraping</center>\n",
    "\n",
    "Ethics: I encourage you to google the ethics of web scraping and read a bit about it before plunging into scraping.\n",
    "\n",
    "Check out this [GitHub Repo](https://github.com/ireapps/first-web-scraper) with a tutorial for writing your first scraper. Jackie Kazil, of PyLadies DC and Women Data Scientists DC, contributed to the project.\n",
    "\n",
    "[Scrapy](https://doc.scrapy.org/en/1.2/intro/overview.html) is a Python library that provides an application framework for scraping.\n",
    "\n",
    "In June, [David Eads](https://twitter.com/eads) from the [NPR Visuals Team](http://blog.apps.npr.org/) made a blog post on [Useful Scraping Techniques](http://blog.apps.npr.org/2016/06/17/scraping-tips.html). It is pretty amazing. He presented it at [PyData DC](http://pydata.org/dc2016/schedule/presentation/38/) so check back at that link for a recording of his talk (they should be posted by Thanksgiving). In the mean time, you can check out his [slides](https://docs.google.com/presentation/d/1jCFVPffHs8bVynMPctd0PmtbJAdFhHvpcC3w2ypQjpA/edit#slide=id.g1370fd37f3_0_75).\n",
    "\n",
    "You can find my initial DOH scraping efforts on my [GitHub](https://github.com/nd1/DC_RestaurantViolationForecasting/tree/master/scripts/support_scripts/scraping). I am attempting to build a sustainable scraper through [Code for DC](http://codefordc.org/). If you want to help, come to a [meetup](https://www.meetup.com/Code-for-DC/)"
   ]
  },
  {
   "cell_type": "markdown",
   "metadata": {
    "slideshow": {
     "slide_type": "subslide"
    }
   },
   "source": [
    "# <center>Presentation</center>\n",
    "\n",
    "I created this presentation using [Jupyter Notebook](http://jupyter.org/) and [reveal.js](http://lab.hakim.se/reveal-js/#/). It is being hosted as a [GitHub Project Page](https://pages.github.com/). I found a few resources out there for how to do this such as [Presentation slides with Jupyter Notebook](http://echorand.me/presentation-slides-with-jupyter-notebook.html#.WAeuWJMrJE4) and [Deploy reveal.js slideshow on github-pages](http://www.tikalk.com/devops/deploy-revealjs-slideshow-github-pages/). "
   ]
  },
  {
   "cell_type": "markdown",
   "metadata": {
    "slideshow": {
     "slide_type": "slide"
    }
   },
   "source": [
    "# <center>Stay in touch!</center>\n",
    "\n",
    "\n",
    "\n",
    "* Twitter: [@NicoleADonnelly](https://twitter.com/NicoleADonnelly)\n",
    "* GitHub: [nd1](https://github.com/nd1)\n",
    "* LinkedIn: [nicoleadonnelly](https://www.linkedin.com/in/nicoleadonnelly)\n",
    "* Email: [Nicole Donnelly](mailto:nicole@nicoledonnelly.me)"
   ]
  }
 ],
 "metadata": {
  "celltoolbar": "Slideshow",
  "kernelspec": {
   "display_name": "Python 3",
   "language": "python",
   "name": "python3"
  },
  "language_info": {
   "codemirror_mode": {
    "name": "ipython",
    "version": 3
   },
   "file_extension": ".py",
   "mimetype": "text/x-python",
   "name": "python",
   "nbconvert_exporter": "python",
   "pygments_lexer": "ipython3",
   "version": "3.5.2"
  }
 },
 "nbformat": 4,
 "nbformat_minor": 1
}
