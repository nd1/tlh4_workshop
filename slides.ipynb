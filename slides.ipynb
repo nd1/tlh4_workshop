{
 "cells": [
  {
   "cell_type": "raw",
   "metadata": {
    "slideshow": {
     "slide_type": "skip"
    }
   },
   "source": [
    "<link rel=\"stylesheet\" href=\"css/reveal.css\">\n",
    "<link rel=\"stylesheet\" href=\"css/theme/sky.css\" id=\"theme\">\n",
    "<link rel=\"stylesheet\" href=\"css/style.css\">"
   ]
  },
  {
   "cell_type": "markdown",
   "metadata": {
    "slideshow": {
     "slide_type": "notes"
    }
   },
   "source": [
    "Hello! My name is Nicole Donnelly.\n",
    "\n",
    "I am going to present a workshop of data collection, specifically using python to collect data from APIs and to build a basic web scraper.\n",
    "\n",
    "To that end..."
   ]
  },
  {
   "cell_type": "markdown",
   "metadata": {
    "slideshow": {
     "slide_type": "slide"
    }
   },
   "source": [
    "# <center> Data Collection: APIs and Web Scraping in Python  </center>\n",
    "\n",
    "\n",
    "<center>\n",
    "\n",
    "\n",
    "<p> <b>Nicole Donnelly</b>\n",
    "\n",
    "<p>Tech Lady Hackathon + Training Day DC #4 \n",
    "<p>October 22, 2016\n",
    "\n",
    "<p>Washington, DC\n",
    "</center>"
   ]
  },
  {
   "cell_type": "markdown",
   "metadata": {
    "slideshow": {
     "slide_type": "slide"
    }
   },
   "source": [
    "# <center>Hi.</center>\n",
    "\n",
    "\n",
    "\n",
    "\n",
    "\n",
    "\n",
    "\n",
    "\n",
    "Everything for this workshop is available online here https://github.com/nd1/tlh4_workshop"
   ]
  },
  {
   "cell_type": "markdown",
   "metadata": {
    "slideshow": {
     "slide_type": "subslide"
    }
   },
   "source": [
    "# <center> Tell me about you...  </center>"
   ]
  },
  {
   "cell_type": "markdown",
   "metadata": {
    "slideshow": {
     "slide_type": "fragment"
    }
   },
   "source": [
    " <center> How many people know python?  </center>"
   ]
  },
  {
   "cell_type": "markdown",
   "metadata": {
    "slideshow": {
     "slide_type": "fragment"
    }
   },
   "source": [
    " <center> How many people have used API? </center>"
   ]
  },
  {
   "cell_type": "markdown",
   "metadata": {
    "slideshow": {
     "slide_type": "fragment"
    }
   },
   "source": [
    " <center> Anybody ever try webscraping?  </center>"
   ]
  },
  {
   "cell_type": "markdown",
   "metadata": {
    "slideshow": {
     "slide_type": "notes"
    }
   },
   "source": [
    "I know a lot of people, especially here, probably love data. But I really love data. \n",
    "\n",
    "Some people nurture plants, or animals, or children.\n",
    "\n",
    "I want to nurture data.\n",
    "\n",
    "I want it to become the best data it can be. I want it to help people. I want it to be happy.\n",
    "\n",
    "In my past life as a consultant, I spent a lot of time with data too. I worked in computer forensics and electronic discovery. I collected data, inventoried it, organized it, gave it context, analyzed it, reconstructed it, reported on it, and put it in useful formats for people to review and use. I was frequently asked to help inventory and organize data for other projects because I am good at it.\n",
    "\n",
    "Data is my happy place."
   ]
  },
  {
   "cell_type": "markdown",
   "metadata": {
    "slideshow": {
     "slide_type": "subslide"
    }
   },
   "source": [
    "# <center> A bit about me...  </center>"
   ]
  },
  {
   "cell_type": "markdown",
   "metadata": {
    "slideshow": {
     "slide_type": "fragment"
    }
   },
   "source": [
    " <center> I have been using Python for a little over a year.  </center>"
   ]
  },
  {
   "cell_type": "markdown",
   "metadata": {
    "slideshow": {
     "slide_type": "fragment"
    }
   },
   "source": [
    " <center> I am a recovering consultant.  </center>"
   ]
  },
  {
   "cell_type": "markdown",
   "metadata": {
    "slideshow": {
     "slide_type": "fragment"
    }
   },
   "source": [
    " <center> I am learning to be a data scientist.  </center>"
   ]
  },
  {
   "cell_type": "markdown",
   "metadata": {
    "slideshow": {
     "slide_type": "fragment"
    }
   },
   "source": [
    " <center> I really love data.  </center>"
   ]
  },
  {
   "cell_type": "markdown",
   "metadata": {
    "slideshow": {
     "slide_type": "notes"
    }
   },
   "source": [
    "It is difficult to design a workshop when you don't know the background of your audience in advance.\n",
    "\n",
    "I am going to assume people can navigate from the command line, have python installed, and have some experience with python.\n",
    "\n",
    "I am also going to assume people have not tried APIs or web scraping before.\n",
    "\n",
    "I created a notebook so we can go through some of the python and you can see what it is doing.\n",
    "\n",
    "I have also created some scripts you can run when you are ready. Feel free to modify them to suit your needs. Or, if you have some experience with all of this, feel free to play around with those instead of the notebook.\n",
    "\n",
    "If you are new to all of this, including python, I have included some resources at the end of the slides."
   ]
  },
  {
   "cell_type": "markdown",
   "metadata": {
    "slideshow": {
     "slide_type": "slide"
    }
   },
   "source": [
    "# <center>Agenda</center>\n",
    "* Intro to APIs"
   ]
  },
  {
   "cell_type": "markdown",
   "metadata": {
    "slideshow": {
     "slide_type": "slide"
    }
   },
   "source": [
    "# <center>Resources</center>"
   ]
  },
  {
   "cell_type": "markdown",
   "metadata": {
    "slideshow": {
     "slide_type": "subslide"
    }
   },
   "source": [
    "# <center>Command Line</center>\n",
    "\n",
    "* [Command Line Crash Course](https://learnpythonthehardway.org/book/appendixa.html) - \\*nix based users (Linux/ OS X)\n",
    "* [Effective Windows PowerShell](https://onedrive.live.com/view.aspx?resid=5A8D2641E0963A97!6929&ithint=file%2cpdf&app=WordPdf&authkey=!AJdUaNzW7L9yC18) - Windows users\n"
   ]
  },
  {
   "cell_type": "markdown",
   "metadata": {},
   "source": [
    "# <center>Git and GitHub</center>\n",
    "\n",
    "There are a lot of online resources for using [Git](https://git-scm.com/) and [GitHub](https://github.com/). Here is a good one to start with [An Intro to Git and GitHub for Beginners (Tutorial)](http://product.hubspot.com/blog/git-and-github-tutorial-for-beginners)."
   ]
  },
  {
   "cell_type": "markdown",
   "metadata": {
    "slideshow": {
     "slide_type": "subslide"
    }
   },
   "source": [
    "# <center>Python </center>\n",
    "\n",
    "\n",
    "There are a lot of Python references available. I used [Learn Python the Hard Way](https://learnpythonthehardway.org/book/) and [Automate the Boring Stuff with Python](https://automatetheboringstuff.com/) when I was first learning. I like the challenges on [HackerRank](https://www.hackerrank.com/domains/python/py-introduction) to practice. The discussion on each challenge is great for seeing how other people approach the problem and to ask questions. The free beginner lesson on [DataQuest](https://www.dataquest.io/path/data-scientist) are also great if you are just starting out or want more practice."
   ]
  },
  {
   "cell_type": "markdown",
   "metadata": {
    "slideshow": {
     "slide_type": "subslide"
    }
   },
   "source": [
    "# <center>Presentation</center>\n",
    "\n",
    "I created this presentation using [Jupyter Notebook](http://jupyter.org/) and [reveal.js](http://lab.hakim.se/reveal-js/#/). It is being hosted as a [GitHub Project Page](https://pages.github.com/). I found a few resources out there for how to do this such as [Presentation slides with Jupyter Notebook](http://echorand.me/presentation-slides-with-jupyter-notebook.html#.WAeuWJMrJE4) and [Deploy reveal.js slideshow on github-pages](http://www.tikalk.com/devops/deploy-revealjs-slideshow-github-pages/). "
   ]
  }
 ],
 "metadata": {
  "celltoolbar": "Slideshow",
  "kernelspec": {
   "display_name": "Python 3",
   "language": "python",
   "name": "python3"
  },
  "language_info": {
   "codemirror_mode": {
    "name": "ipython",
    "version": 3
   },
   "file_extension": ".py",
   "mimetype": "text/x-python",
   "name": "python",
   "nbconvert_exporter": "python",
   "pygments_lexer": "ipython3",
   "version": "3.5.2"
  }
 },
 "nbformat": 4,
 "nbformat_minor": 1
}
