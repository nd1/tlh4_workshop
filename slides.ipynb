{
 "cells": [
  {
   "cell_type": "raw",
   "metadata": {
    "slideshow": {
     "slide_type": "skip"
    }
   },
   "source": [
    "<script type=\"text/javascript\">\n",
    "\n",
    "$(document).ready(function(){\n",
    "\n",
    "    Reveal.configure({\n",
    "        transition: 'convex' // none/fade/slide/convex/concave/zoom\n",
    "    })\n",
    "});    \n",
    "</script>"
   ]
  },
  {
   "cell_type": "markdown",
   "metadata": {
    "slideshow": {
     "slide_type": "slide"
    }
   },
   "source": [
    "# <center>Data Collection: APIs and Web Scraping in Python </center>\n",
    "\n",
    "\n",
    "<center>\n",
    "\n",
    "\n",
    "<p> <b>Nicole Donnelly</b>\n",
    "\n",
    "<p>Tech Lady Hackathon + Training Day DC #4 \n",
    "<p>October 22, 2016\n",
    "\n",
    "<p>Washington, DC\n",
    "</center>"
   ]
  },
  {
   "cell_type": "markdown",
   "metadata": {
    "slideshow": {
     "slide_type": "slide"
    }
   },
   "source": [
    "# <center>Hi.</center>\n",
    "\n",
    "\n",
    "\n",
    "\n",
    "\n",
    "\n",
    "\n",
    "<center>\n",
    "<p>Everything for this workshop is available online here https://github.com/nd1/tlh4_workshop\n",
    "</center>"
   ]
  },
  {
   "cell_type": "markdown",
   "metadata": {
    "slideshow": {
     "slide_type": "notes"
    }
   },
   "source": [
    "Hello! My name is Nicole Donnelly.\n",
    "\n",
    "I am going to present a workshop of data collection, specifically using python to collect data from APIs and to build a basic web scraper.\n",
    "\n",
    "To that end..."
   ]
  },
  {
   "cell_type": "markdown",
   "metadata": {
    "slideshow": {
     "slide_type": "subslide"
    }
   },
   "source": [
    "# <center> Who Are You?  </center>"
   ]
  },
  {
   "cell_type": "markdown",
   "metadata": {
    "slideshow": {
     "slide_type": "fragment"
    }
   },
   "source": [
    "<center> How many people know python?  </center>\n",
    "<center> How many people have used APIs? </center>\n",
    "<center> Anybody ever try web scraping?  </center>"
   ]
  },
  {
   "cell_type": "markdown",
   "metadata": {
    "slideshow": {
     "slide_type": "subslide"
    }
   },
   "source": [
    "# <center> Who Am I? </center>"
   ]
  },
  {
   "cell_type": "markdown",
   "metadata": {
    "slideshow": {
     "slide_type": "fragment"
    }
   },
   "source": [
    "<center> I have been using Python for a little over a year.  </center>\n",
    "<center> I am a recovering consultant.  </center>\n",
    "<center> I am learning to be a data scientist.  </center>\n",
    "<center> I really love data.  </center>"
   ]
  },
  {
   "cell_type": "markdown",
   "metadata": {
    "slideshow": {
     "slide_type": "notes"
    }
   },
   "source": [
    "I know a lot of people, especially here, probably love data. But I really love data. \n",
    "\n",
    "Data is my happy place.\n",
    "\n",
    "Some people nurture plants, or animals, or children.\n",
    "\n",
    "I want to nurture data.\n",
    "\n",
    "I want it to become the best data it can be. I want it to help people. I want it to be happy.\n",
    "\n",
    "In my past life as a consultant, I spent a lot of time with data too. I worked in computer forensics and electronic discovery. I collected data, inventoried it, organized it, gave it context, analyzed it, reconstructed it, reported on it, and put it in useful formats for people to review and use. I was frequently asked to help inventory and organize data for other projects because I am good at it and I enjoy it.\n",
    "\n",
    "I decided to make a career change to data science. I completed the professional certificate in data science at Georgetown and I am currently the TA. I also completed the Data Science Immersive at Genral Assembly.\n",
    "\n",
    "Currently seeking full time employment!\n"
   ]
  },
  {
   "cell_type": "markdown",
   "metadata": {
    "slideshow": {
     "slide_type": "subslide"
    }
   },
   "source": [
    "# <center> Why Am I Here? </center>"
   ]
  },
  {
   "cell_type": "markdown",
   "metadata": {
    "slideshow": {
     "slide_type": "fragment"
    }
   },
   "source": [
    "\n",
    "### <center> Community  </center>"
   ]
  },
  {
   "cell_type": "markdown",
   "metadata": {
    "slideshow": {
     "slide_type": "notes"
    }
   },
   "source": [
    "Like I said, I really love data. \n",
    "\n",
    "I recently completed a data science project where I combined data from APIs and scraping.  \n",
    "\n",
    "I had a lot of help to get there. One of the people that helped suggested I submit a workshop for this event. So, I did.\n",
    "\n",
    "Now I am working on developing a sustainable scraper to create a data set for some city data.  And I will probably get more help at Code for DC.\n",
    "\n",
    "I am not an expert, but I know enough to help people out."
   ]
  },
  {
   "cell_type": "markdown",
   "metadata": {
    "slideshow": {
     "slide_type": "slide"
    }
   },
   "source": [
    "# <center>Agenda</center>\n",
    "\n",
    "<p>\n",
    "### An Overview\n",
    "* What are APIs?\n",
    "* Where are APIs?\n",
    "* How do I access APIs?\n",
    "* What is web scraping?\n",
    "* When should I web scrape?\n",
    "* How do I web scrape?\n",
    "\n",
    "### Some Hands-on\n",
    "* Workshop Notebook\n",
    "* Python Scripts"
   ]
  },
  {
   "cell_type": "markdown",
   "metadata": {
    "slideshow": {
     "slide_type": "notes"
    }
   },
   "source": [
    "It is difficult to design a workshop when you don't know the background of your audience in advance.\n",
    "\n",
    "I am going to assume people can navigate from the command line, have python installed, and have some experience with python.\n",
    "\n",
    "I am also going to assume people have not tried APIs or web scraping before.\n",
    "\n",
    "I created a notebook so we can go through some of the python and you can see what it is doing.\n",
    "\n",
    "I have also created some scripts you can run when you are ready. Feel free to modify them to suit your needs. Or, if you have some experience with all of this, feel free to play around with those instead of the notebook.\n",
    "\n",
    "If you are new to all of this, including python, I have included some resources at the end of the slides."
   ]
  },
  {
   "cell_type": "markdown",
   "metadata": {
    "slideshow": {
     "slide_type": "slide"
    }
   },
   "source": [
    "# <center>What are APIs?</center>"
   ]
  },
  {
   "cell_type": "markdown",
   "metadata": {
    "slideshow": {
     "slide_type": "slide"
    }
   },
   "source": [
    "# <center>Where are APIs?</center>"
   ]
  },
  {
   "cell_type": "markdown",
   "metadata": {
    "slideshow": {
     "slide_type": "slide"
    }
   },
   "source": [
    "# <center>How do I access APIs?</center>"
   ]
  },
  {
   "cell_type": "markdown",
   "metadata": {
    "slideshow": {
     "slide_type": "slide"
    }
   },
   "source": [
    "# <center>What is web scraping?</center>"
   ]
  },
  {
   "cell_type": "markdown",
   "metadata": {
    "slideshow": {
     "slide_type": "slide"
    }
   },
   "source": [
    "# <center>When should I web scrape?</center>"
   ]
  },
  {
   "cell_type": "markdown",
   "metadata": {
    "slideshow": {
     "slide_type": "subslide"
    }
   },
   "source": [
    "## \"IF YOU NEED A SCRAPER, YOU HAVE A DATA PROBLEM.\" \n",
    "\n",
    "### [David Eads](https://twitter.com/eads), [PyData DC, 10/9/16](https://docs.google.com/presentation/d/1jCFVPffHs8bVynMPctd0PmtbJAdFhHvpcC3w2ypQjpA/edit#slide=id.g1370fd37f3_0_75)"
   ]
  },
  {
   "cell_type": "markdown",
   "metadata": {
    "slideshow": {
     "slide_type": "notes"
    }
   },
   "source": [
    "I saw a really good talk on web scraping a few weeks ago at PyData DC.\n",
    "\n",
    "Did anyone go?\n",
    "\n",
    "I am borrowing, with permission, a couple of slides from the presenter.\n",
    "\n",
    "\"Fundamentally, a scraper means something isn’t right in the world. There’s a database out there, somewhere, powering a website, but you only have access to the website. \n",
    "\n",
    "But the good data… well, if it was easy to get, it probably wouldn’t be the good shit.\"\n"
   ]
  },
  {
   "cell_type": "markdown",
   "metadata": {
    "slideshow": {
     "slide_type": "subslide"
    }
   },
   "source": [
    "# NEVERSCRAPE UNLESS YOU...\n",
    "\n",
    "* **have no other way of liberating the data**\n",
    "* **budget appropriately**\n",
    "* **consider the ethical ramifications**\n",
    "* **read terms of service and do your legal research**\n",
    "* **talk to a lawyer (if you possibly can)**\n"
   ]
  },
  {
   "cell_type": "markdown",
   "metadata": {
    "slideshow": {
     "slide_type": "subslide"
    }
   },
   "source": [
    "![meme](./img/mimitw.jpg)"
   ]
  },
  {
   "cell_type": "markdown",
   "metadata": {
    "slideshow": {
     "slide_type": "slide"
    }
   },
   "source": [
    "# <center>How do I web scrape?</center>"
   ]
  },
  {
   "cell_type": "markdown",
   "metadata": {
    "slideshow": {
     "slide_type": "slide"
    }
   },
   "source": [
    "# <center>Resources</center>"
   ]
  },
  {
   "cell_type": "markdown",
   "metadata": {
    "slideshow": {
     "slide_type": "subslide"
    }
   },
   "source": [
    "# <center>Command Line</center>\n",
    "\n",
    "* [Command Line Crash Course](https://learnpythonthehardway.org/book/appendixa.html) - \\*nix based users (Linux/ OS X)\n",
    "* [Effective Windows PowerShell](https://onedrive.live.com/view.aspx?resid=5A8D2641E0963A97!6929&ithint=file%2cpdf&app=WordPdf&authkey=!AJdUaNzW7L9yC18) - Windows users\n"
   ]
  },
  {
   "cell_type": "markdown",
   "metadata": {
    "slideshow": {
     "slide_type": "subslide"
    }
   },
   "source": [
    "# <center>Git and GitHub</center>\n",
    "\n",
    "There are a lot of online resources for using [Git](https://git-scm.com/) and [GitHub](https://github.com/). Here is a good one to start with [An Intro to Git and GitHub for Beginners (Tutorial)](http://product.hubspot.com/blog/git-and-github-tutorial-for-beginners)."
   ]
  },
  {
   "cell_type": "markdown",
   "metadata": {
    "slideshow": {
     "slide_type": "subslide"
    }
   },
   "source": [
    "# <center>Python </center>\n",
    "\n",
    "\n",
    "There are a lot of Python references available. I used [Learn Python the Hard Way](https://learnpythonthehardway.org/book/) and [Automate the Boring Stuff with Python](https://automatetheboringstuff.com/) when I was first learning. I like the challenges on [HackerRank](https://www.hackerrank.com/domains/python/py-introduction) to practice. The discussion on each challenge is great for seeing how other people approach the problem and to ask questions. The free beginner lesson on [DataQuest](https://www.dataquest.io/path/data-scientist) are also great if you are just starting out or want more practice."
   ]
  },
  {
   "cell_type": "markdown",
   "metadata": {
    "slideshow": {
     "slide_type": "subslide"
    }
   },
   "source": [
    "# <center>Presentation</center>\n",
    "\n",
    "I created this presentation using [Jupyter Notebook](http://jupyter.org/) and [reveal.js](http://lab.hakim.se/reveal-js/#/). It is being hosted as a [GitHub Project Page](https://pages.github.com/). I found a few resources out there for how to do this such as [Presentation slides with Jupyter Notebook](http://echorand.me/presentation-slides-with-jupyter-notebook.html#.WAeuWJMrJE4) and [Deploy reveal.js slideshow on github-pages](http://www.tikalk.com/devops/deploy-revealjs-slideshow-github-pages/). "
   ]
  },
  {
   "cell_type": "markdown",
   "metadata": {
    "slideshow": {
     "slide_type": "subslide"
    }
   },
   "source": [
    "# <center>Advanced Web Scraping</center>\n",
    "\n",
    "In June, [David Eads](https://twitter.com/eads) from the [NPR Visuals Team](http://blog.apps.npr.org/) made a blog post on [Useful Scraping Techniques](http://blog.apps.npr.org/2016/06/17/scraping-tips.html). It is pretty amazing. He presented it at [PyData DC](http://pydata.org/dc2016/schedule/presentation/38/) so check back at that link for a recording of his talk (they should be posted by Thanksgiving). In the mean time, you can check out his [slides](https://docs.google.com/presentation/d/1jCFVPffHs8bVynMPctd0PmtbJAdFhHvpcC3w2ypQjpA/edit#slide=id.g1370fd37f3_0_75)."
   ]
  },
  {
   "cell_type": "markdown",
   "metadata": {
    "slideshow": {
     "slide_type": "slide"
    }
   },
   "source": [
    "# <center>Stay in touch!</center>\n",
    "\n",
    "\n",
    "\n",
    "* Twitter: [@NicoleADonnelly](https://twitter.com/NicoleADonnelly)\n",
    "* GitHub: [nd1](https://github.com/nd1)\n",
    "* LinkedIn: [nicoleadonnelly](https://www.linkedin.com/in/nicoleadonnelly)\n",
    "* Email: [Nicole Donnelly](mailto:nicole@nicoledonnelly.me)"
   ]
  }
 ],
 "metadata": {
  "celltoolbar": "Slideshow",
  "kernelspec": {
   "display_name": "Python 3",
   "language": "python",
   "name": "python3"
  },
  "language_info": {
   "codemirror_mode": {
    "name": "ipython",
    "version": 3
   },
   "file_extension": ".py",
   "mimetype": "text/x-python",
   "name": "python",
   "nbconvert_exporter": "python",
   "pygments_lexer": "ipython3",
   "version": "3.5.2"
  }
 },
 "nbformat": 4,
 "nbformat_minor": 1
}
